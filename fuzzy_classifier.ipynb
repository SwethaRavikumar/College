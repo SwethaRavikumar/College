{
  "nbformat": 4,
  "nbformat_minor": 0,
  "metadata": {
    "kernelspec": {
      "display_name": "Python 3",
      "language": "python",
      "name": "python3"
    },
    "language_info": {
      "codemirror_mode": {
        "name": "ipython",
        "version": 3
      },
      "file_extension": ".py",
      "mimetype": "text/x-python",
      "name": "python",
      "nbconvert_exporter": "python",
      "pygments_lexer": "ipython3",
      "version": "3.6.5"
    },
    "colab": {
      "name": "fuzzy_classifier.ipynb",
      "provenance": [],
      "collapsed_sections": [],
      "include_colab_link": true
    }
  },
  "cells": [
    {
      "cell_type": "markdown",
      "metadata": {
        "id": "view-in-github",
        "colab_type": "text"
      },
      "source": [
        "<a href=\"https://colab.research.google.com/github/SwethaRavikumar/College/blob/main/fuzzy_classifier.ipynb\" target=\"_parent\"><img src=\"https://colab.research.google.com/assets/colab-badge.svg\" alt=\"Open In Colab\"/></a>"
      ]
    },
    {
      "cell_type": "code",
      "metadata": {
        "id": "QhJKTRSta8FK"
      },
      "source": [
        "from fuzzy import *\n",
        "import matplotlib.pyplot as plt\n",
        "import pandas as pd\n",
        "import math\n",
        "import random\n",
        "import numpy as np\n",
        "from google.colab import drive\n",
        "drive.mount('/content/drive')"
      ],
      "execution_count": null,
      "outputs": []
    },
    {
      "cell_type": "markdown",
      "metadata": {
        "id": "ZUy3veNZa8FV"
      },
      "source": [
        "## FUZZY CLASSIFICATION ON IRIS DATASET"
      ]
    },
    {
      "cell_type": "code",
      "metadata": {
        "id": "KUJ6xdizeeQT"
      },
      "source": [
        "class FuzzyClassifier:\n",
        "\n",
        "\tdef __init__(self, sensitivity=1, exp_bound=1):\n",
        "\n",
        "\t\tself.sensitivity = sensitivity\n",
        "\t\tself.hyperboxes = None\n",
        "\t\tself.classes = np.array([])\n",
        "\t\tself.exp_bound = exp_bound\n",
        "\n",
        "\n",
        "\tdef membership(self, pattern):\n",
        "\t\tmin_pts = self.hyperboxes[:, 0, :]\n",
        "\t\tmax_pts = self.hyperboxes[:, 1, :]\n",
        "\t\t\n",
        "\t\ta = np.maximum(0, (1 - np.maximum(0, (self.sensitivity * np.minimum(1, pattern - max_pts)))))\n",
        "\t\tb = np.maximum(0, (1 - np.maximum(0, (self.sensitivity * np.minimum(1, min_pts - pattern)))))\n",
        "\n",
        "\t\treturn np.sum(a + b, axis=1) / (2 * len(pattern))\n",
        "\n",
        "\n",
        "\tdef overlap_contract(self, index):\n",
        "\t\tcontracted = False\n",
        "\t\tfor test_box in range(len(self.hyperboxes)):\n",
        "\n",
        "\t\t\tif self.classes[test_box] == self.classes[index]:\n",
        "\t\t\t\t# Ignore same class hyperbox overlap\n",
        "\t\t\t\tcontinue\n",
        "\t\n",
        "\t\t\texpanded_box = self.hyperboxes[index]\n",
        "\t\t\tbox = self.hyperboxes[test_box]\n",
        "\n",
        "\t\t\t## TODO: Refactor for vectorization\n",
        "\t\t\tvj, wj = expanded_box\n",
        "\t\t\tvk, wk = box\n",
        "\n",
        "\t\t\tdelta_new = delta_old = 1\n",
        "\t\t\tmin_overlap_index = -1\n",
        "\t\t\tfor i in range(len(vj)):\n",
        "\t\t\t\tif vj[i] < vk[i] < wj[i] < wk[i]:\n",
        "\t\t\t\t\tdelta_new = min(delta_old, wj[i] - vk[i])\n",
        "\n",
        "\t\t\t\telif vk[i] < vj[i] < wk[i] < wj[i]:\n",
        "\t\t\t\t\tdelta_new = min(delta_old, wk[i] - vj[i])\n",
        "\n",
        "\t\t\t\telif vj[i] < vk[i] < wk[i] < wj[i]:\n",
        "\t\t\t\t\tdelta_new = min(delta_old, min(wj[i] - vk[i], wk[i] - vj[i]))\n",
        "\n",
        "\t\t\t\telif vk[i] < vj[i] < wj[i] < wk[i]:\n",
        "\t\t\t\t\tdelta_new = min(delta_old, min(wj[i] - vk[i], wk[i] - vj[i]))\n",
        "\n",
        "\t\t\t\tif delta_old - delta_new > 0:\n",
        "\t\t\t\t\tmin_overlap_index = i\n",
        "\t\t\t\t\tdelta_old = delta_new\n",
        "\n",
        "\t\t\tif min_overlap_index >= 0:\n",
        "\t\t\t\ti = min_overlap_index\n",
        "\t\t\t\t# We need to contract the expanded box\n",
        "\t\t\t\tif vj[i] < vk[i] < wj[i] < wk[i]:\n",
        "\t\t\t\t\tvk[i] = wj[i] = (vk[i] + wj[i])/2\n",
        "\n",
        "\t\t\t\telif vk[i] < vj[i] < wk[i] < wj[i]:\n",
        "\t\t\t\t\tvj[i] = wk[i] = (vj[i] + wk[i])/2\n",
        "\n",
        "\t\t\t\telif vj[i] < vk[i] < wk[i] < wj[i]:\n",
        "\t\t\t\t\tif (wj[i] - vk[i]) > (wk[i] - vj[i]):\n",
        "\t\t\t\t\t\tvj[i] = wk[i]\n",
        "\n",
        "\t\t\t\t\telse:\n",
        "\t\t\t\t\t\twj[i] = vk[i]\n",
        "\n",
        "\t\t\t\telif vk[i] < vj[i] < wj[i] < wk[i]:\n",
        "\t\t\t\t\tif (wk[i] - vj[i]) > (wj[i] - vk[i]):\n",
        "\t\t\t\t\t\tvk[i] = wj[i]\n",
        "\n",
        "\t\t\t\t\telse:\n",
        "\t\t\t\t\t\twk[i] = vj[i]\n",
        "\n",
        "\t\t\t\tself.hyperboxes[test_box] = np.array([vk, wk])\n",
        "\t\t\t\tself.hyperboxes[index] = np.array([vj, wj])\n",
        "\t\t\t\tcontracted = True\n",
        "\n",
        "\t\treturn contracted\n",
        "\n",
        "\n",
        "\n",
        "\tdef train_pattern(self, X, Y):\n",
        "\t\ttarget = Y\n",
        "\t\t\n",
        "\t\tif target not in self.classes:\n",
        "\t\t\t\n",
        "\t\t\t\n",
        "\t\t\tif self.hyperboxes is not None:\n",
        "\t\t\t\tself.hyperboxes = np.vstack((self.hyperboxes, np.array([[X, X]])))\n",
        "\t\t\t\tself.classes = np.hstack((self.classes, np.array([target])))\n",
        "\n",
        "\t\t\telse:\n",
        "\t\t\t\tself.hyperboxes = np.array([[X, X]])\n",
        "\t\t\t\tself.classes = np.array([target])\n",
        "\n",
        "\t\telse:\n",
        "\t\t\t\n",
        "\t\t\tmemberships = self.membership(X)\n",
        "\t\t\tmemberships[np.where(self.classes != target)] = 0\n",
        "\t\t\tmemberships = sorted(list(enumerate(memberships)), key=lambda x: x[1], reverse=True)\n",
        "\t\t\t\n",
        "\t\t\tcount = 0\n",
        "\t\t\twhile True:\n",
        "\t\t\t\tindex = memberships[count][0]\n",
        "\t\t\t\tmin_new = np.minimum(self.hyperboxes[index, 0, :], X)\n",
        "\t\t\t\tmax_new = np.maximum(self.hyperboxes[index, 1, :], X)\n",
        "\t\t\t\t\n",
        "\t\t\t\tif self.exp_bound * len(np.unique(self.classes)) >= np.sum(max_new - min_new):\n",
        "\t\t\t\t\tself.hyperboxes[index, 0] = min_new\n",
        "\t\t\t\t\tself.hyperboxes[index, 1] = max_new\n",
        "\t\t\t\t\tbreak\n",
        "\t\t\t\telse:\n",
        "\t\t\t\t\tcount += 1\n",
        "\n",
        "\t\t\t\tif count == len(memberships):\n",
        "\t\t\t\t\tself.hyperboxes = np.vstack((self.hyperboxes, np.array([[X, X]])))\n",
        "\t\t\t\t\tself.classes = np.hstack((self.classes, np.array([target])))\n",
        "\t\t\t\t\tindex = len(self.hyperboxes) - 1\n",
        "\t\t\t\t\tbreak\n",
        "\n",
        "\t\t\tcontracted = self.overlap_contract(index)\n",
        "\n",
        "\n",
        "\tdef fit(self, X, Y):\n",
        "\t\tfor x, y in zip(X, Y):\n",
        "\t\t\tself.train_pattern(x, y)\n",
        "\n",
        "\n",
        "\tdef predict(self, X):\n",
        "\t\tclasses = np.unique(self.classes)\n",
        "\t\tresults = []\n",
        "\t\tmemberships = self.membership(X)\n",
        "\t\tmax_prediction = 0\n",
        "\t\tpred_class = 0\n",
        "\t\tfor _class in classes:\n",
        "\t\t\tmask = np.zeros((len(self.hyperboxes),))\n",
        "\t\t\tmask[np.where(self.classes == _class)] = 1\n",
        "\t\t\tp = memberships * mask\n",
        "\t\t\tprediction, class_index = np.max(p), np.argmax(p)\n",
        "\t\t\tif prediction > max_prediction:\n",
        "\t\t\t\tmax_prediction = prediction\n",
        "\t\t\t\tpred_class = class_index\n",
        "\n",
        "\t\treturn max_prediction, self.classes[pred_class] \n",
        "\n",
        "\n",
        "\tdef score(self, X, Y):\n",
        "\t\tcount = 0\n",
        "\t\tfor x, y in zip(X, Y):\n",
        "\t\t\t_, pred = self.predict(x)\n",
        "\t\t\tif y == pred:\n",
        "\t\t\t\tcount += 1\n",
        "\n",
        "\t\treturn count / len(Y)"
      ],
      "execution_count": null,
      "outputs": []
    },
    {
      "cell_type": "code",
      "metadata": {
        "id": "jgojS9Mca8FW"
      },
      "source": [
        "data_set = pd.read_csv('/content/drive/MyDrive/Colab Notebooks/SOFT COMPUTING/fuzzy-min-max-classifier-master/iris.data', header=None, names=['sepal length', 'sepal width', 'petal length', 'petal width', 'class'])\n",
        "\n",
        "data_set = data_set[~(data_set['class']=='Iris-virginica')]\n",
        "\n",
        "data_set.head()\n",
        "\n",
        "data_set.replace(to_replace='Iris-setosa', value=0, inplace=True)\n",
        "\n",
        "data_set.replace(to_replace='Iris-versicolor', value=1, inplace=True)\n",
        "\n",
        "data_set = data_set.sample(frac=1)\n",
        "\n",
        "X_Train = data_set[['sepal length', 'sepal width']].values\n",
        "Y_Train = data_set['class'].values\n",
        "\n",
        "maximum_ = np.max(X_Train, axis=0)\n",
        "minimum_ = np.min(X_Train, axis=0)\n",
        "X_Train = (X_Train - minimum_) / (maximum_ - minimum_)\n",
        "\n",
        "X_test, Y_test = X_Train[-20:], Y_Train[-20:]\n",
        "X_Train, Y_Train = X_Train[:-20], Y_Train[:-20]"
      ],
      "execution_count": null,
      "outputs": []
    },
    {
      "cell_type": "code",
      "metadata": {
        "colab": {
          "base_uri": "https://localhost:8080/"
        },
        "id": "gHU19Qj-a8FX",
        "outputId": "29f89646-0980-490b-fe2d-ae33f1ec8627"
      },
      "source": [
        "X_Train.shape, Y_Train.shape"
      ],
      "execution_count": null,
      "outputs": [
        {
          "output_type": "execute_result",
          "data": {
            "text/plain": [
              "((80, 2), (80,))"
            ]
          },
          "metadata": {
            "tags": []
          },
          "execution_count": 131
        }
      ]
    },
    {
      "cell_type": "code",
      "metadata": {
        "id": "PUkkqizGa8FZ"
      },
      "source": [
        "clf2 = FuzzyClassifier(sensitivity=1, exp_bound=0.1)  \n",
        "\n",
        "#Fuzzy Classifier class imported from fuzzy."
      ],
      "execution_count": null,
      "outputs": []
    },
    {
      "cell_type": "code",
      "metadata": {
        "id": "IE-l-sc6a8FZ"
      },
      "source": [
        "clf2.fit(X_Train, Y_Train)"
      ],
      "execution_count": null,
      "outputs": []
    },
    {
      "cell_type": "code",
      "metadata": {
        "colab": {
          "base_uri": "https://localhost:8080/"
        },
        "id": "kDpVwpGDa8Fa",
        "outputId": "df7d6850-5625-4128-c66c-322d9b9a4082"
      },
      "source": [
        "clf2.score(X_test,Y_test)"
      ],
      "execution_count": null,
      "outputs": [
        {
          "output_type": "execute_result",
          "data": {
            "text/plain": [
              "0.95"
            ]
          },
          "metadata": {
            "tags": []
          },
          "execution_count": 134
        }
      ]
    },
    {
      "cell_type": "code",
      "metadata": {
        "colab": {
          "base_uri": "https://localhost:8080/",
          "height": 269
        },
        "id": "jwyJrKlba8Fd",
        "outputId": "24b5969c-dad5-42e9-c53f-48ddb36e2f52"
      },
      "source": [
        "for x, y in zip(train_x, train_y):\n",
        "    if y == 0:\n",
        "        plt.scatter(x[0], x[1], c='c', alpha=0.8)\n",
        "    else:\n",
        "        plt.scatter(x[0], x[1], c='y', alpha=0.8)\n",
        "plt.ylim([0, 1])\n",
        "plt.show()"
      ],
      "execution_count": null,
      "outputs": [
        {
          "output_type": "display_data",
          "data": {
            "image/png": "[encoded data removed]",
            "text/plain": [
              "<Figure size 432x288 with 1 Axes>"
            ]
          },
          "metadata": {
            "tags": [],
            "needs_background": "light"
          }
        }
      ]
    }
  ]
}